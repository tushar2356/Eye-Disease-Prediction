{
 "cells": [
  {
   "cell_type": "code",
   "execution_count": 2,
   "id": "ded4e176-f1a5-405e-a259-785a50d2168d",
   "metadata": {},
   "outputs": [],
   "source": [
    "import tensorflow as tf\n",
    "import matplotlib.pyplot as plt\n",
    "import pandas as pd\n",
    "import seaborn as sns\n",
    "import pickle\n",
    "from tensorflow.keras.utils import image_dataset_from_directory"
   ]
  },
  {
   "cell_type": "code",
   "execution_count": 26,
   "id": "1c74c987-db48-4c87-90ed-20129348eed7",
   "metadata": {},
   "outputs": [
    {
     "name": "stdout",
     "output_type": "stream",
     "text": [
      "Found 76515 files belonging to 4 classes.\n"
     ]
    }
   ],
   "source": [
    "training_set = image_dataset_from_directory(\n",
    "    'train',\n",
    "    labels=\"inferred\",\n",
    "    label_mode=\"categorical\",\n",
    "    class_names=None,\n",
    "    color_mode=\"rgb\",\n",
    "    batch_size=32,\n",
    "    image_size=(224, 224),\n",
    "    shuffle=True,\n",
    "    seed=None,\n",
    "    validation_split=None,\n",
    "    subset=None,\n",
    "    interpolation=\"bilinear\",\n",
    "    follow_links=False,\n",
    "    crop_to_aspect_ratio=False\n",
    ")"
   ]
  },
  {
   "cell_type": "code",
   "execution_count": 27,
   "id": "121a852f-ef4e-4b25-8555-f7d2d4e24249",
   "metadata": {},
   "outputs": [
    {
     "name": "stdout",
     "output_type": "stream",
     "text": [
      "Found 21861 files belonging to 4 classes.\n"
     ]
    }
   ],
   "source": [
    "validation_set = image_dataset_from_directory(\n",
    "    'val',\n",
    "    labels=\"inferred\",\n",
    "    label_mode=\"categorical\",\n",
    "    class_names=None,\n",
    "    color_mode=\"rgb\",\n",
    "    batch_size=32,\n",
    "    image_size=(224, 224),\n",
    "    shuffle=True,\n",
    "    seed=None,\n",
    "    validation_split=None,\n",
    "    subset=None,\n",
    "    interpolation=\"bilinear\",\n",
    "    follow_links=False,\n",
    "    crop_to_aspect_ratio=False\n",
    ")"
   ]
  },
  {
   "cell_type": "code",
   "execution_count": 28,
   "id": "69178243-eed1-466e-bf06-b3137d6ed155",
   "metadata": {},
   "outputs": [
    {
     "data": {
      "text/plain": [
       "<_PrefetchDataset element_spec=(TensorSpec(shape=(None, 224, 224, 3), dtype=tf.float32, name=None), TensorSpec(shape=(None, 4), dtype=tf.float32, name=None))>"
      ]
     },
     "execution_count": 28,
     "metadata": {},
     "output_type": "execute_result"
    }
   ],
   "source": [
    "training_set"
   ]
  },
  {
   "cell_type": "code",
   "execution_count": 29,
   "id": "4c660fca-aa80-43cc-bd82-db6c15142d4e",
   "metadata": {},
   "outputs": [],
   "source": [
    "INPUT_SHAPE = (224, 224, 3)"
   ]
  },
  {
   "cell_type": "code",
   "execution_count": 30,
   "id": "4c706b6b-ae09-450b-b7c9-0dcd67e77509",
   "metadata": {},
   "outputs": [],
   "source": [
    "mobnet = tf.keras.applications.MobileNetV3Large(\n",
    "    input_shape=INPUT_SHAPE,\n",
    "    alpha=1.0,\n",
    "    minimalistic=False,\n",
    "    include_top=True,\n",
    "    weights=\"imagenet\",\n",
    "    input_tensor=None,\n",
    "    classes=1000,\n",
    "    pooling=None,\n",
    "    dropout_rate=0.2,\n",
    "    classifier_activation=\"softmax\",\n",
    "    include_preprocessing=True,\n",
    "    # name=\"MobileNetV3Large\",\n",
    ")"
   ]
  },
  {
   "cell_type": "code",
   "execution_count": 31,
   "id": "95f1055f-8e35-4cfe-9214-b2d5be5fc77c",
   "metadata": {},
   "outputs": [],
   "source": [
    "#mobnet.trainable = False #--used to freeze weights of this pretrained model "
   ]
  },
  {
   "cell_type": "code",
   "execution_count": 32,
   "id": "521e856e-a11c-4089-a14a-9488e645d23d",
   "metadata": {},
   "outputs": [],
   "source": [
    "model = tf.keras.models.Sequential()"
   ]
  },
  {
   "cell_type": "code",
   "execution_count": 33,
   "id": "4276b5f6-22b8-42f7-b9c2-30a6aa8be645",
   "metadata": {},
   "outputs": [],
   "source": [
    "model.add(tf.keras.Input(shape=INPUT_SHAPE))"
   ]
  },
  {
   "cell_type": "code",
   "execution_count": 35,
   "id": "897f1a16-a1b3-4eb6-8841-0be6f932abc2",
   "metadata": {},
   "outputs": [],
   "source": [
    "model.add(mobnet)"
   ]
  },
  {
   "cell_type": "code",
   "execution_count": 40,
   "id": "151ee754-28c3-48fa-a200-67697e892a89",
   "metadata": {},
   "outputs": [],
   "source": [
    "model.add(tf.keras.layers.Dense(units = 4,activation='softmax'))"
   ]
  },
  {
   "cell_type": "code",
   "execution_count": null,
   "id": "ffa340c8-53b1-4032-85a2-fac177b61eba",
   "metadata": {},
   "outputs": [],
   "source": []
  },
  {
   "cell_type": "code",
   "execution_count": 41,
   "id": "b1c9ccfd-fb94-4206-851e-dba2af8d529c",
   "metadata": {},
   "outputs": [],
   "source": [
    "metrics_list = ['accuracy',\n",
    "                tf.keras.metrics.F1Score()]"
   ]
  },
  {
   "cell_type": "code",
   "execution_count": 42,
   "id": "daa8e628-aba7-43e1-b7ee-82ba076ba28d",
   "metadata": {},
   "outputs": [],
   "source": [
    "model.compile(optimizer=tf.keras.optimizers.legacy.Adam(\n",
    "    learning_rate=0.0001),loss='categorical_crossentropy',metrics=metrics_list)"
   ]
  },
  {
   "cell_type": "code",
   "execution_count": 43,
   "id": "99a8a5c0-0b29-4ca1-9737-c0e07a97737a",
   "metadata": {},
   "outputs": [
    {
     "name": "stdout",
     "output_type": "stream",
     "text": [
      "Model: \"sequential\"\n",
      "_________________________________________________________________\n",
      " Layer (type)                Output Shape              Param #   \n",
      "=================================================================\n",
      " MobilenetV3large (Function  (None, 1000)              5507432   \n",
      " al)                                                             \n",
      "                                                                 \n",
      " dense (Dense)               (None, 4)                 4004      \n",
      "                                                                 \n",
      "=================================================================\n",
      "Total params: 5511436 (21.02 MB)\n",
      "Trainable params: 5487036 (20.93 MB)\n",
      "Non-trainable params: 24400 (95.31 KB)\n",
      "_________________________________________________________________\n"
     ]
    }
   ],
   "source": [
    "model.summary()"
   ]
  },
  {
   "cell_type": "code",
   "execution_count": 44,
   "id": "c64f323e-4977-4dfb-b864-96d51763a534",
   "metadata": {},
   "outputs": [
    {
     "name": "stdout",
     "output_type": "stream",
     "text": [
      "Epoch 1/15\n",
      "2392/2392 [==============================] - 987s 411ms/step - loss: 1.1454 - accuracy: 0.8422 - f1_score: 0.5950 - val_loss: 0.9870 - val_accuracy: 0.8807 - val_f1_score: 0.6714\n",
      "Epoch 2/15\n",
      "2392/2392 [==============================] - 1140s 477ms/step - loss: 0.8648 - accuracy: 0.8877 - f1_score: 0.6841 - val_loss: 0.7606 - val_accuracy: 0.8642 - val_f1_score: 0.6772\n",
      "Epoch 3/15\n",
      "2392/2392 [==============================] - 1151s 481ms/step - loss: 0.6702 - accuracy: 0.8858 - f1_score: 0.6883 - val_loss: 0.6100 - val_accuracy: 0.8930 - val_f1_score: 0.6908\n",
      "Epoch 4/15\n",
      "2392/2392 [==============================] - 1434s 599ms/step - loss: 0.5357 - accuracy: 0.9060 - f1_score: 0.7901 - val_loss: 0.4866 - val_accuracy: 0.9312 - val_f1_score: 0.8855\n",
      "Epoch 5/15\n",
      "2392/2392 [==============================] - 1414s 591ms/step - loss: 0.4321 - accuracy: 0.9422 - f1_score: 0.8972 - val_loss: 0.3957 - val_accuracy: 0.9452 - val_f1_score: 0.9002\n",
      "Epoch 6/15\n",
      "2392/2392 [==============================] - 1422s 594ms/step - loss: 0.3480 - accuracy: 0.9500 - f1_score: 0.9119 - val_loss: 0.3628 - val_accuracy: 0.9266 - val_f1_score: 0.8784\n",
      "Epoch 7/15\n",
      "2392/2392 [==============================] - 998s 417ms/step - loss: 0.2892 - accuracy: 0.9535 - f1_score: 0.9181 - val_loss: 0.2769 - val_accuracy: 0.9508 - val_f1_score: 0.9142\n",
      "Epoch 8/15\n",
      "2392/2392 [==============================] - 972s 406ms/step - loss: 0.2445 - accuracy: 0.9567 - f1_score: 0.9241 - val_loss: 0.2845 - val_accuracy: 0.9321 - val_f1_score: 0.8827\n",
      "Epoch 9/15\n",
      "2392/2392 [==============================] - 992s 415ms/step - loss: 0.2083 - accuracy: 0.9605 - f1_score: 0.9304 - val_loss: 0.2260 - val_accuracy: 0.9494 - val_f1_score: 0.9121\n",
      "Epoch 10/15\n",
      "2392/2392 [==============================] - 1004s 419ms/step - loss: 0.1829 - accuracy: 0.9626 - f1_score: 0.9343 - val_loss: 0.2186 - val_accuracy: 0.9484 - val_f1_score: 0.9076\n",
      "Epoch 11/15\n",
      "2392/2392 [==============================] - 1004s 420ms/step - loss: 0.1699 - accuracy: 0.9621 - f1_score: 0.9338 - val_loss: 0.1976 - val_accuracy: 0.9501 - val_f1_score: 0.9128\n",
      "Epoch 12/15\n",
      "2392/2392 [==============================] - 979s 409ms/step - loss: 0.1487 - accuracy: 0.9666 - f1_score: 0.9414 - val_loss: 0.2359 - val_accuracy: 0.9308 - val_f1_score: 0.8828\n",
      "Epoch 13/15\n",
      "2392/2392 [==============================] - 975s 408ms/step - loss: 0.1339 - accuracy: 0.9693 - f1_score: 0.9466 - val_loss: 0.2054 - val_accuracy: 0.9451 - val_f1_score: 0.9040\n",
      "Epoch 14/15\n",
      "2392/2392 [==============================] - 1209s 506ms/step - loss: 0.1213 - accuracy: 0.9717 - f1_score: 0.9508 - val_loss: 0.1859 - val_accuracy: 0.9473 - val_f1_score: 0.9096\n",
      "Epoch 15/15\n",
      "2392/2392 [==============================] - 1526s 638ms/step - loss: 0.1125 - accuracy: 0.9733 - f1_score: 0.9537 - val_loss: 0.1797 - val_accuracy: 0.9503 - val_f1_score: 0.9151\n"
     ]
    }
   ],
   "source": [
    "training_history = model.fit(x=training_set,validation_data=validation_set,epochs=15)"
   ]
  },
  {
   "cell_type": "code",
   "execution_count": null,
   "id": "89a1a803-5f08-4f34-beed-9044daa9b554",
   "metadata": {},
   "outputs": [],
   "source": []
  },
  {
   "cell_type": "code",
   "execution_count": 45,
   "id": "339316a0-e4fb-480c-bae6-e7209804bb0e",
   "metadata": {},
   "outputs": [
    {
     "name": "stderr",
     "output_type": "stream",
     "text": [
      "/Users/animesh/anaconda3/envs/tensorflow/lib/python3.10/site-packages/keras/src/engine/training.py:3103: UserWarning: You are saving your model as an HDF5 file via `model.save()`. This file format is considered legacy. We recommend using instead the native Keras format, e.g. `model.save('my_model.keras')`.\n",
      "  saving_api.save_model(\n"
     ]
    }
   ],
   "source": [
    "model.save(\"Trained_Model.h5\")"
   ]
  },
  {
   "cell_type": "code",
   "execution_count": 46,
   "id": "8ca7482f-546f-4646-8606-b6d3543db759",
   "metadata": {},
   "outputs": [],
   "source": [
    "model.save(\"Trained_Model.keras\")"
   ]
  },
  {
   "cell_type": "code",
   "execution_count": 47,
   "id": "883d38b0-00b4-436f-a7dd-473afd7bd12f",
   "metadata": {},
   "outputs": [],
   "source": [
    "# Saving history\n",
    "with open('Training_history.pkl', 'wb') as f:\n",
    "    pickle.dump(training_history.history, f)"
   ]
  },
  {
   "cell_type": "code",
   "execution_count": 4,
   "id": "6ecd3f4b-5296-4217-9c3f-f001b477360c",
   "metadata": {},
   "outputs": [
    {
     "data": {
      "text/plain": [
       "{'loss': [1.1453802585601807,\n",
       "  0.8648024201393127,\n",
       "  0.6702404618263245,\n",
       "  0.5356669425964355,\n",
       "  0.4320599436759949,\n",
       "  0.3479674160480499,\n",
       "  0.28923746943473816,\n",
       "  0.24451656639575958,\n",
       "  0.20830342173576355,\n",
       "  0.18285790085792542,\n",
       "  0.1699090301990509,\n",
       "  0.1487247496843338,\n",
       "  0.1339232176542282,\n",
       "  0.12125182151794434,\n",
       "  0.11251933872699738],\n",
       " 'accuracy': [0.8422400951385498,\n",
       "  0.887708306312561,\n",
       "  0.8857740163803101,\n",
       "  0.9060314893722534,\n",
       "  0.9422466158866882,\n",
       "  0.9499706029891968,\n",
       "  0.9534600973129272,\n",
       "  0.9567012786865234,\n",
       "  0.9605175256729126,\n",
       "  0.962582528591156,\n",
       "  0.9621120095252991,\n",
       "  0.9666078686714172,\n",
       "  0.9693262577056885,\n",
       "  0.9716918468475342,\n",
       "  0.9733254909515381],\n",
       " 'f1_score': [array([0.8814868 , 0.57463247, 0.00095801, 0.92311895], dtype=float32),\n",
       "  array([0.9090779 , 0.8804841 , 0.        , 0.94674116], dtype=float32),\n",
       "  array([0.9392844 , 0.89636165, 0.        , 0.9176859 ], dtype=float32),\n",
       "  array([0.9481992 , 0.90421456, 0.37415048, 0.9337706 ], dtype=float32),\n",
       "  array([0.95332676, 0.91403055, 0.7494094 , 0.97196394], dtype=float32),\n",
       "  array([0.9601239, 0.9270588, 0.7850574, 0.9754878], dtype=float32),\n",
       "  array([0.96210384, 0.9329279 , 0.7996721 , 0.9776858 ], dtype=float32),\n",
       "  array([0.9665085 , 0.9369046 , 0.8150999 , 0.97792816], dtype=float32),\n",
       "  array([0.9699914 , 0.94476855, 0.82705045, 0.97972435], dtype=float32),\n",
       "  array([0.9721664 , 0.95102113, 0.83389115, 0.9800124 ], dtype=float32),\n",
       "  array([0.97076136, 0.9470149 , 0.83693606, 0.9804181 ], dtype=float32),\n",
       "  array([0.97524995, 0.95487547, 0.8535094 , 0.982151  ], dtype=float32),\n",
       "  array([0.97729045, 0.9588922 , 0.8669766 , 0.98323834], dtype=float32),\n",
       "  array([0.9785665 , 0.9606397 , 0.87928927, 0.98486435], dtype=float32),\n",
       "  array([0.98032624, 0.9635969 , 0.8855471 , 0.98537004], dtype=float32)],\n",
       " 'val_loss': [0.9870080351829529,\n",
       "  0.7606276869773865,\n",
       "  0.6100387573242188,\n",
       "  0.4866158068180084,\n",
       "  0.39565080404281616,\n",
       "  0.36276230216026306,\n",
       "  0.27686941623687744,\n",
       "  0.28448745608329773,\n",
       "  0.22604089975357056,\n",
       "  0.21856483817100525,\n",
       "  0.19756902754306793,\n",
       "  0.23592539131641388,\n",
       "  0.20539847016334534,\n",
       "  0.18592648208141327,\n",
       "  0.1797105222940445],\n",
       " 'val_accuracy': [0.8807465434074402,\n",
       "  0.8641873598098755,\n",
       "  0.8929600715637207,\n",
       "  0.9312474131584167,\n",
       "  0.945199191570282,\n",
       "  0.9265815615653992,\n",
       "  0.9508256912231445,\n",
       "  0.9321165680885315,\n",
       "  0.9494076371192932,\n",
       "  0.9484469890594482,\n",
       "  0.9500937461853027,\n",
       "  0.9307900071144104,\n",
       "  0.945061981678009,\n",
       "  0.9472576975822449,\n",
       "  0.9502767324447632],\n",
       " 'val_f1_score': [array([0.89669394, 0.83936393, 0.        , 0.9495117 ], dtype=float32),\n",
       "  array([0.9195339, 0.9006536, 0.       , 0.8887819], dtype=float32),\n",
       "  array([0.93442416, 0.8935678 , 0.        , 0.9353584 ], dtype=float32),\n",
       "  array([0.94262964, 0.8944869 , 0.7372031 , 0.96768534], dtype=float32),\n",
       "  array([0.9586175 , 0.9134964 , 0.7579341 , 0.97088957], dtype=float32),\n",
       "  array([0.9553683, 0.9169691, 0.6876747, 0.9535764], dtype=float32),\n",
       "  array([0.961262  , 0.927081  , 0.79376984, 0.9745836 ], dtype=float32),\n",
       "  array([0.94107944, 0.8537534 , 0.7647784 , 0.9713763 ], dtype=float32),\n",
       "  array([0.9638362 , 0.92962646, 0.7829763 , 0.97205937], dtype=float32),\n",
       "  array([0.9616429 , 0.9197397 , 0.77705824, 0.9719842 ], dtype=float32),\n",
       "  array([0.96594226, 0.91975176, 0.7944723 , 0.9711033 ], dtype=float32),\n",
       "  array([0.95607615, 0.85272795, 0.7627991 , 0.95975786], dtype=float32),\n",
       "  array([0.9626797 , 0.9033013 , 0.78069204, 0.9692286 ], dtype=float32),\n",
       "  array([0.9581024, 0.9284796, 0.779148 , 0.9727352], dtype=float32),\n",
       "  array([0.96310735, 0.92379683, 0.8013582 , 0.9720928 ], dtype=float32)]}"
      ]
     },
     "execution_count": 4,
     "metadata": {},
     "output_type": "execute_result"
    }
   ],
   "source": [
    "#Reloading History from pickle\n",
    "with open('Training_history.pkl', 'rb') as f:\n",
    "    load_history = pickle.load(f)\n",
    "load_history"
   ]
  },
  {
   "cell_type": "code",
   "execution_count": 6,
   "id": "77fa4a06",
   "metadata": {},
   "outputs": [
    {
     "data": {
      "image/png": "[encoded data removed]",
      "text/plain": [
       "<Figure size 640x480 with 1 Axes>"
      ]
     },
     "metadata": {},
     "output_type": "display_data"
    }
   ],
   "source": [
    "#Loss Visualization\n",
    "epochs = [i for i in range(1,16)]\n",
    "plt.plot(epochs,load_history['loss'],color='red',label='Training Loss')\n",
    "plt.plot(epochs,load_history['val_loss'],color='blue',label='Validation Loss')\n",
    "plt.xlabel('No. of Epochs')\n",
    "plt.title('Visualization of Loss Result')\n",
    "plt.legend()\n",
    "plt.show()"
   ]
  },
  {
   "cell_type": "code",
   "execution_count": 49,
   "id": "f0fde29d-88cd-4c9c-878d-8ed346de2f3d",
   "metadata": {},
   "outputs": [
    {
     "name": "stdout",
     "output_type": "stream",
     "text": [
      "Found 10934 files belonging to 4 classes.\n"
     ]
    }
   ],
   "source": [
    "test_set = validation_set = image_dataset_from_directory(\n",
    "    'test',\n",
    "    labels=\"inferred\",\n",
    "    label_mode=\"categorical\",\n",
    "    class_names=None,\n",
    "    color_mode=\"rgb\",\n",
    "    batch_size=64,\n",
    "    image_size=(224, 224),\n",
    "    shuffle=True,\n",
    "    seed=None,\n",
    "    validation_split=None,\n",
    "    subset=None,\n",
    "    interpolation=\"bilinear\",\n",
    "    follow_links=False,\n",
    "    crop_to_aspect_ratio=False\n",
    ")"
   ]
  },
  {
   "cell_type": "code",
   "execution_count": 50,
   "id": "d875fe52-acdd-482a-8328-99a2ee2019ea",
   "metadata": {},
   "outputs": [
    {
     "name": "stdout",
     "output_type": "stream",
     "text": [
      "171/171 [==============================] - 65s 368ms/step - loss: 0.1883 - accuracy: 0.9476 - f1_score: 0.9092\n"
     ]
    }
   ],
   "source": [
    "test_loss,test_acc,f1_score = model.evaluate(test_set)"
   ]
  },
  {
   "cell_type": "code",
   "execution_count": 51,
   "id": "1f2862ae-950f-4f00-a4fb-a7765142cdfc",
   "metadata": {},
   "outputs": [
    {
     "data": {
      "text/plain": [
       "0.18832968175411224"
      ]
     },
     "execution_count": 51,
     "metadata": {},
     "output_type": "execute_result"
    }
   ],
   "source": [
    "test_loss"
   ]
  },
  {
   "cell_type": "code",
   "execution_count": 52,
   "id": "84ad28a1-188c-4ce4-ba4f-1ef924439ec4",
   "metadata": {},
   "outputs": [
    {
     "data": {
      "text/plain": [
       "0.9475946426391602"
      ]
     },
     "execution_count": 52,
     "metadata": {},
     "output_type": "execute_result"
    }
   ],
   "source": [
    "test_acc"
   ]
  },
  {
   "cell_type": "code",
   "execution_count": 53,
   "id": "39bc636d-88a7-41a7-9179-4680ea0794cc",
   "metadata": {},
   "outputs": [
    {
     "data": {
      "text/plain": [
       "array([0.96402097, 0.9143881 , 0.78808314, 0.9702022 ], dtype=float32)"
      ]
     },
     "execution_count": 53,
     "metadata": {},
     "output_type": "execute_result"
    }
   ],
   "source": [
    "f1_score"
   ]
  },
  {
   "cell_type": "code",
   "execution_count": null,
   "id": "91ad197e-4279-49fa-bff9-f35917b064b1",
   "metadata": {},
   "outputs": [],
   "source": []
  },
  {
   "cell_type": "markdown",
   "id": "5fa13f53-6eed-4b66-9a9c-aac32264fc22",
   "metadata": {},
   "source": [
    "## Model Evaluation"
   ]
  },
  {
   "cell_type": "code",
   "execution_count": 3,
   "id": "53994404-12d4-4337-b306-56e2cac5b38c",
   "metadata": {},
   "outputs": [
    {
     "name": "stderr",
     "output_type": "stream",
     "text": [
      "2024-11-02 10:47:59.283337: I metal_plugin/src/device/metal_device.cc:1154] Metal device set to: Apple M2\n",
      "2024-11-02 10:47:59.283412: I metal_plugin/src/device/metal_device.cc:296] systemMemory: 16.00 GB\n",
      "2024-11-02 10:47:59.283424: I metal_plugin/src/device/metal_device.cc:313] maxCacheSize: 5.33 GB\n",
      "2024-11-02 10:47:59.283503: I tensorflow/core/common_runtime/pluggable_device/pluggable_device_factory.cc:306] Could not identify NUMA node of platform GPU ID 0, defaulting to 0. Your kernel may not have been built with NUMA support.\n",
      "2024-11-02 10:47:59.283731: I tensorflow/core/common_runtime/pluggable_device/pluggable_device_factory.cc:272] Created TensorFlow device (/job:localhost/replica:0/task:0/device:GPU:0 with 0 MB memory) -> physical PluggableDevice (device: 0, name: METAL, pci bus id: <undefined>)\n"
     ]
    }
   ],
   "source": [
    "model = tf.keras.models.load_model(\"Trained_Model.h5\")"
   ]
  },
  {
   "cell_type": "code",
   "execution_count": 4,
   "id": "59f561ef-3024-481c-8d8c-91a9473a1a3a",
   "metadata": {},
   "outputs": [
    {
     "name": "stdout",
     "output_type": "stream",
     "text": [
      "Model: \"sequential\"\n",
      "_________________________________________________________________\n",
      " Layer (type)                Output Shape              Param #   \n",
      "=================================================================\n",
      " MobilenetV3large (Function  (None, 1000)              5507432   \n",
      " al)                                                             \n",
      "                                                                 \n",
      " dense (Dense)               (None, 4)                 4004      \n",
      "                                                                 \n",
      "=================================================================\n",
      "Total params: 5511436 (21.02 MB)\n",
      "Trainable params: 5487036 (20.93 MB)\n",
      "Non-trainable params: 24400 (95.31 KB)\n",
      "_________________________________________________________________\n"
     ]
    }
   ],
   "source": [
    "model.summary()"
   ]
  },
  {
   "cell_type": "code",
   "execution_count": 5,
   "id": "f7c20a1f-1521-4ac7-b87c-8cfa04fe15c2",
   "metadata": {},
   "outputs": [
    {
     "name": "stdout",
     "output_type": "stream",
     "text": [
      "Found 10934 files belonging to 4 classes.\n"
     ]
    }
   ],
   "source": [
    "test_set = validation_set = image_dataset_from_directory(\n",
    "    'test',\n",
    "    labels=\"inferred\",\n",
    "    label_mode=\"categorical\",\n",
    "    class_names=None,\n",
    "    color_mode=\"rgb\",\n",
    "    batch_size=64,\n",
    "    image_size=(224, 224),\n",
    "    shuffle=False,\n",
    "    seed=None,\n",
    "    validation_split=None,\n",
    "    subset=None,\n",
    "    interpolation=\"bilinear\",\n",
    "    follow_links=False,\n",
    "    crop_to_aspect_ratio=False\n",
    ")"
   ]
  },
  {
   "cell_type": "code",
   "execution_count": 6,
   "id": "0ad121d4-17b5-47af-99ae-366fc02d11ff",
   "metadata": {},
   "outputs": [],
   "source": [
    "##Computing True labels from test set\n",
    "true_categories = tf.concat([y for x, y in test_set], axis=0)\n",
    "Y_true = tf.argmax(true_categories, axis=1)"
   ]
  },
  {
   "cell_type": "code",
   "execution_count": 7,
   "id": "5fd16398-edd0-4da4-9052-cd0234069b18",
   "metadata": {},
   "outputs": [
    {
     "data": {
      "text/plain": [
       "<tf.Tensor: shape=(10934,), dtype=int64, numpy=array([0, 0, 0, ..., 3, 3, 3])>"
      ]
     },
     "execution_count": 7,
     "metadata": {},
     "output_type": "execute_result"
    }
   ],
   "source": [
    "Y_true"
   ]
  },
  {
   "cell_type": "code",
   "execution_count": 8,
   "id": "ab9e4c46-611d-4970-ad29-b7fdc04a121e",
   "metadata": {},
   "outputs": [
    {
     "name": "stderr",
     "output_type": "stream",
     "text": [
      "2024-11-02 10:48:14.359978: I tensorflow/core/grappler/optimizers/custom_graph_optimizer_registry.cc:117] Plugin optimizer for device_type GPU is enabled.\n"
     ]
    },
    {
     "name": "stdout",
     "output_type": "stream",
     "text": [
      "171/171 [==============================] - 31s 175ms/step\n"
     ]
    }
   ],
   "source": [
    "##Computing Predicted labels using test set\n",
    "predicted_categories = model.predict(test_set)\n",
    "Y_pred = tf.argmax(predicted_categories, axis=1)"
   ]
  },
  {
   "cell_type": "code",
   "execution_count": 9,
   "id": "dfb5d792-e4d7-4129-8e9b-96284e50cdf3",
   "metadata": {},
   "outputs": [
    {
     "data": {
      "text/plain": [
       "<tf.Tensor: shape=(10934,), dtype=int64, numpy=array([0, 0, 0, ..., 3, 3, 3])>"
      ]
     },
     "execution_count": 9,
     "metadata": {},
     "output_type": "execute_result"
    }
   ],
   "source": [
    "Y_true"
   ]
  },
  {
   "cell_type": "code",
   "execution_count": 10,
   "id": "29a1a01e-9d0c-4408-8e78-709f7488e63a",
   "metadata": {},
   "outputs": [
    {
     "data": {
      "text/plain": [
       "<tf.Tensor: shape=(10934,), dtype=int64, numpy=array([0, 0, 0, ..., 3, 3, 3])>"
      ]
     },
     "execution_count": 10,
     "metadata": {},
     "output_type": "execute_result"
    }
   ],
   "source": [
    "Y_pred"
   ]
  },
  {
   "cell_type": "markdown",
   "id": "68f67f6b-c2f8-4115-a573-18a9bac06dcd",
   "metadata": {},
   "source": [
    "### 1. Classification Report"
   ]
  },
  {
   "cell_type": "code",
   "execution_count": 11,
   "id": "faf70ccb-ad49-4069-9b6b-d6b705581c0d",
   "metadata": {},
   "outputs": [
    {
     "name": "stdout",
     "output_type": "stream",
     "text": [
      "              precision    recall  f1-score   support\n",
      "\n",
      "           0       0.97      0.95      0.96      3746\n",
      "           1       0.95      0.88      0.91      1161\n",
      "           2       0.79      0.79      0.79       888\n",
      "           3       0.96      0.99      0.97      5139\n",
      "\n",
      "    accuracy                           0.95     10934\n",
      "   macro avg       0.92      0.90      0.91     10934\n",
      "weighted avg       0.95      0.95      0.95     10934\n",
      "\n"
     ]
    }
   ],
   "source": [
    "from sklearn.metrics import classification_report\n",
    "print(classification_report(Y_true,Y_pred))"
   ]
  },
  {
   "cell_type": "markdown",
   "id": "29ad199b-8203-48d9-aad6-bb1a4ec36712",
   "metadata": {},
   "source": [
    "### 2. Confusion Matrix"
   ]
  },
  {
   "cell_type": "code",
   "execution_count": 12,
   "id": "284800ca-ece2-4786-91ce-c8ebec0fab67",
   "metadata": {},
   "outputs": [
    {
     "data": {
      "text/plain": [
       "array([[3577,   23,  122,   24],\n",
       "       [  19, 1020,   13,  109],\n",
       "       [  75,   10,  701,  102],\n",
       "       [   4,   17,   55, 5063]])"
      ]
     },
     "execution_count": 12,
     "metadata": {},
     "output_type": "execute_result"
    }
   ],
   "source": [
    "from sklearn.metrics import confusion_matrix\n",
    "cm = confusion_matrix(Y_true,Y_pred)\n",
    "cm"
   ]
  },
  {
   "cell_type": "code",
   "execution_count": 18,
   "id": "1fbf4681-2f88-4c78-a520-6e32c93700eb",
   "metadata": {},
   "outputs": [
    {
     "data": {
      "image/png": "[encoded data removed]",
      "text/plain": [
       "<Figure size 1000x1000 with 2 Axes>"
      ]
     },
     "metadata": {},
     "output_type": "display_data"
    }
   ],
   "source": [
    "import seaborn as sns\n",
    "plt.figure(figsize=(10,10))\n",
    "sns.heatmap(cm,annot=True,annot_kws={\"size\":8})\n",
    "plt.xlabel(\"Predicted Class\",fontsize=10)\n",
    "plt.ylabel(\"Actual Class\",fontsize=10)\n",
    "plt.title(\"Human Eye Disease Prediction Confusion Matrix\",fontsize=12)\n",
    "plt.show()"
   ]
  },
  {
   "cell_type": "code",
   "execution_count": null,
   "id": "b30ee529-c02f-4638-98d7-c44c66ed6e4c",
   "metadata": {},
   "outputs": [],
   "source": []
  }
 ],
 "metadata": {
  "kernelspec": {
   "display_name": "Python 3 (ipykernel)",
   "language": "python",
   "name": "python3"
  },
  "language_info": {
   "codemirror_mode": {
    "name": "ipython",
    "version": 3
   },
   "file_extension": ".py",
   "mimetype": "text/x-python",
   "name": "python",
   "nbconvert_exporter": "python",
   "pygments_lexer": "ipython3",
   "version": "3.10.12"
  }
 },
 "nbformat": 4,
 "nbformat_minor": 5
}
